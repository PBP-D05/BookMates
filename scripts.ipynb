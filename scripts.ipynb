{
 "cells": [
  {
   "cell_type": "markdown",
   "metadata": {},
   "source": [
    "# Convert Books to Database"
   ]
  },
  {
   "cell_type": "code",
   "execution_count": 32,
   "metadata": {},
   "outputs": [],
   "source": [
    "import pandas as pd\n",
    "from MengelolaBuku.models import User, Pengguna\n",
    "from MengelolaBuku.models import Buku\n",
    "\n",
    "df = pd.read_csv('books_data.csv')\n",
    "sample = df.sample(10)\n",
    "root = User.objects.get(username=\"root\")\n",
    "pengguna = Pengguna.objects.get(user=root)\n",
    "\n",
    "for inx, row in sample.iterrows():\n",
    "    Buku.objects.create(judul=row['Name'], author=row['Author'], min_age=0, max_age=0, desc=row['Description'], rating=row['Rating_out_of_5'], num_of_rating=row['No_of_Ratings'], user=pengguna)"
   ]
  }
 ],
 "metadata": {
  "kernelspec": {
   "display_name": "main",
   "language": "python",
   "name": "python3"
  },
  "language_info": {
   "codemirror_mode": {
    "name": "ipython",
    "version": 3
   },
   "file_extension": ".py",
   "mimetype": "text/x-python",
   "name": "python",
   "nbconvert_exporter": "python",
   "pygments_lexer": "ipython3",
   "version": "3.9.16"
  }
 },
 "nbformat": 4,
 "nbformat_minor": 2
}
